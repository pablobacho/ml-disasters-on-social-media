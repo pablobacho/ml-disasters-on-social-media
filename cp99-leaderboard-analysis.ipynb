{
 "cells": [
  {
   "cell_type": "markdown",
   "metadata": {},
   "source": [
    "# Leaderboard analysis\n",
    "\n",
    "### Download leaderboard manually\n",
    "\n",
    "Let's start downloading the leaderboard from Kaggle's website:\n",
    "\n",
    "https://www.kaggle.com/c/nlp-getting-started/leaderboard\n",
    "\n",
    "I downloaded the leaderboard manually and saved if in the 'input' folder as 'publicleaderboard.csv'."
   ]
  },
  {
   "cell_type": "markdown",
   "metadata": {},
   "source": [
    "### Import Python packages\n",
    "\n",
    "For data exploration and processing we are using the following Python packages:\n",
    "* Numpy (linear algebra)\n",
    "* Pandas (data processing)\n",
    "* Seaborn (data visualization)\n",
    "* Matplotlib (data visualization)"
   ]
  },
  {
   "cell_type": "code",
   "execution_count": 1,
   "metadata": {},
   "outputs": [],
   "source": [
    "import numpy as np\n",
    "import pandas as pd\n",
    "\n",
    "pd.plotting.register_matplotlib_converters()\n",
    "import matplotlib.pyplot as plt\n",
    "%matplotlib inline\n",
    "import seaborn as sns"
   ]
  },
  {
   "cell_type": "markdown",
   "metadata": {},
   "source": [
    "### Read leaderboard from CSV\n",
    "\n",
    "Print out the first line of the file to see what fields it contains."
   ]
  },
  {
   "cell_type": "code",
   "execution_count": 2,
   "metadata": {},
   "outputs": [
    {
     "name": "stdout",
     "output_type": "stream",
     "text": [
      "﻿TeamId,TeamName,SubmissionDate,Score\n",
      "\n"
     ]
    }
   ],
   "source": [
    "with open('input/publicleaderboard.csv') as f:\n",
    "    print(next(f))"
   ]
  },
  {
   "cell_type": "markdown",
   "metadata": {},
   "source": [
    "Read the CSV file."
   ]
  },
  {
   "cell_type": "code",
   "execution_count": 3,
   "metadata": {},
   "outputs": [],
   "source": [
    "# Read dataset\n",
    "df = pd.read_csv('input/publicleaderboard.csv', encoding = 'ISO-8859-1')"
   ]
  },
  {
   "cell_type": "markdown",
   "metadata": {},
   "source": [
    "## General overview\n",
    "\n",
    "Taking a look at the first rows of the leaderboard."
   ]
  },
  {
   "cell_type": "code",
   "execution_count": 4,
   "metadata": {},
   "outputs": [
    {
     "data": {
      "text/html": [
       "<div>\n",
       "<style scoped>\n",
       "    .dataframe tbody tr th:only-of-type {\n",
       "        vertical-align: middle;\n",
       "    }\n",
       "\n",
       "    .dataframe tbody tr th {\n",
       "        vertical-align: top;\n",
       "    }\n",
       "\n",
       "    .dataframe thead th {\n",
       "        text-align: right;\n",
       "    }\n",
       "</style>\n",
       "<table border=\"1\" class=\"dataframe\">\n",
       "  <thead>\n",
       "    <tr style=\"text-align: right;\">\n",
       "      <th></th>\n",
       "      <th>TeamId</th>\n",
       "      <th>TeamName</th>\n",
       "      <th>SubmissionDate</th>\n",
       "      <th>Score</th>\n",
       "    </tr>\n",
       "  </thead>\n",
       "  <tbody>\n",
       "    <tr>\n",
       "      <th>0</th>\n",
       "      <td>4152525</td>\n",
       "      <td>Yufeng Guo</td>\n",
       "      <td>2019-12-20 15:33:49</td>\n",
       "      <td>0.81083</td>\n",
       "    </tr>\n",
       "    <tr>\n",
       "      <th>1</th>\n",
       "      <td>4169548</td>\n",
       "      <td>Salomon Kabongo</td>\n",
       "      <td>2019-12-23 22:54:36</td>\n",
       "      <td>0.57055</td>\n",
       "    </tr>\n",
       "    <tr>\n",
       "      <th>2</th>\n",
       "      <td>4169594</td>\n",
       "      <td>Amr M. Kayid</td>\n",
       "      <td>2019-12-23 22:57:00</td>\n",
       "      <td>0.81083</td>\n",
       "    </tr>\n",
       "    <tr>\n",
       "      <th>3</th>\n",
       "      <td>4169658</td>\n",
       "      <td>Zhenlan</td>\n",
       "      <td>2019-12-23 23:10:24</td>\n",
       "      <td>0.77505</td>\n",
       "    </tr>\n",
       "    <tr>\n",
       "      <th>4</th>\n",
       "      <td>4169742</td>\n",
       "      <td>Search and Rescue</td>\n",
       "      <td>2019-12-23 23:21:51</td>\n",
       "      <td>0.57055</td>\n",
       "    </tr>\n",
       "  </tbody>\n",
       "</table>\n",
       "</div>"
      ],
      "text/plain": [
       "    TeamId           TeamName       SubmissionDate    Score\n",
       "0  4152525         Yufeng Guo  2019-12-20 15:33:49  0.81083\n",
       "1  4169548   Salomon Kabongo   2019-12-23 22:54:36  0.57055\n",
       "2  4169594       Amr M. Kayid  2019-12-23 22:57:00  0.81083\n",
       "3  4169658            Zhenlan  2019-12-23 23:10:24  0.77505\n",
       "4  4169742  Search and Rescue  2019-12-23 23:21:51  0.57055"
      ]
     },
     "execution_count": 4,
     "metadata": {},
     "output_type": "execute_result"
    }
   ],
   "source": [
    "df.head()"
   ]
  },
  {
   "cell_type": "markdown",
   "metadata": {},
   "source": [
    "The leaderboard is not in order by score, and it has every score submitted by every single participant. Let's put it in order, group by 'TeamName' and keep just the highest and newest score by each participant."
   ]
  },
  {
   "cell_type": "code",
   "execution_count": 5,
   "metadata": {},
   "outputs": [
    {
     "data": {
      "text/html": [
       "<div>\n",
       "<style scoped>\n",
       "    .dataframe tbody tr th:only-of-type {\n",
       "        vertical-align: middle;\n",
       "    }\n",
       "\n",
       "    .dataframe tbody tr th {\n",
       "        vertical-align: top;\n",
       "    }\n",
       "\n",
       "    .dataframe thead th {\n",
       "        text-align: right;\n",
       "    }\n",
       "</style>\n",
       "<table border=\"1\" class=\"dataframe\">\n",
       "  <thead>\n",
       "    <tr style=\"text-align: right;\">\n",
       "      <th></th>\n",
       "      <th>TeamId</th>\n",
       "      <th>SubmissionDate</th>\n",
       "      <th>Score</th>\n",
       "    </tr>\n",
       "    <tr>\n",
       "      <th>TeamName</th>\n",
       "      <th></th>\n",
       "      <th></th>\n",
       "      <th></th>\n",
       "    </tr>\n",
       "  </thead>\n",
       "  <tbody>\n",
       "    <tr>\n",
       "      <th>Dhruv Mevada</th>\n",
       "      <td>4180673</td>\n",
       "      <td>2020-01-03 12:33:58</td>\n",
       "      <td>0.76993</td>\n",
       "    </tr>\n",
       "    <tr>\n",
       "      <th>Jisoo_keen</th>\n",
       "      <td>4273798</td>\n",
       "      <td>2020-01-20 17:46:38</td>\n",
       "      <td>0.77505</td>\n",
       "    </tr>\n",
       "    <tr>\n",
       "      <th>12Nine</th>\n",
       "      <td>4180909</td>\n",
       "      <td>2019-12-26 13:47:24</td>\n",
       "      <td>0.57055</td>\n",
       "    </tr>\n",
       "    <tr>\n",
       "      <th>@s@s@s</th>\n",
       "      <td>4233541</td>\n",
       "      <td>2020-01-14 14:41:26</td>\n",
       "      <td>1.00000</td>\n",
       "    </tr>\n",
       "    <tr>\n",
       "      <th>A. Lesniak</th>\n",
       "      <td>4172870</td>\n",
       "      <td>2019-12-29 10:46:07</td>\n",
       "      <td>0.83435</td>\n",
       "    </tr>\n",
       "  </tbody>\n",
       "</table>\n",
       "</div>"
      ],
      "text/plain": [
       "                TeamId       SubmissionDate    Score\n",
       "TeamName                                            \n",
       " Dhruv Mevada  4180673  2020-01-03 12:33:58  0.76993\n",
       " Jisoo_keen    4273798  2020-01-20 17:46:38  0.77505\n",
       "12Nine         4180909  2019-12-26 13:47:24  0.57055\n",
       "@s@s@s         4233541  2020-01-14 14:41:26  1.00000\n",
       "A. Lesniak     4172870  2019-12-29 10:46:07  0.83435"
      ]
     },
     "execution_count": 5,
     "metadata": {},
     "output_type": "execute_result"
    }
   ],
   "source": [
    "df = df.sort_values(by=['Score', 'SubmissionDate'], axis=0, ascending=[False, True], inplace=False).groupby(['TeamName']).first()\n",
    "df.head()"
   ]
  },
  {
   "cell_type": "code",
   "execution_count": 6,
   "metadata": {},
   "outputs": [
    {
     "data": {
      "text/plain": [
       "array([[<matplotlib.axes._subplots.AxesSubplot object at 0x7fd8c0a8d780>]],\n",
       "      dtype=object)"
      ]
     },
     "execution_count": 6,
     "metadata": {},
     "output_type": "execute_result"
    },
    {
     "data": {
      "image/png": "[encoded data removed]",
      "text/plain": [
       "<Figure size 432x288 with 1 Axes>"
      ]
     },
     "metadata": {},
     "output_type": "display_data"
    }
   ],
   "source": [
    "df.hist(column='Score', bins=100)"
   ]
  },
  {
   "cell_type": "markdown",
   "metadata": {},
   "source": [
    "We can see the bulk of participants scored around 0.8.\n",
    "\n",
    "There is a gap near 0.90 to almost 1.0 that corresponds to scores by \"cheaters\". This is a \"Getting Started\" competition, and the whole dataset is publicly available online, so we can expect the leaderboard to have plenty of cheaters that submit based on the actual dataset and not on prediction, or train their algorithm using the whole dataset (and then failing to predict just some outliers)."
   ]
  },
  {
   "cell_type": "code",
   "execution_count": 19,
   "metadata": {},
   "outputs": [],
   "source": [
    "df = df.loc[df['Score'] <= 0.95] # Cleaning cheaters out"
   ]
  },
  {
   "cell_type": "markdown",
   "metadata": {},
   "source": [
    "Show how I performed compared to my peers."
   ]
  },
  {
   "cell_type": "code",
   "execution_count": 20,
   "metadata": {},
   "outputs": [
    {
     "name": "stdout",
     "output_type": "stream",
     "text": [
      "My score: 0.81288\n",
      "Percentile: 74.3 %\n",
      "Global average: 0.77632\n"
     ]
    }
   ],
   "source": [
    "print('My score:', df.loc['Pablo Bacho', 'Score'])\n",
    "print('Percentile:', '{0:.1f}'.format(df.loc[df['Score'] < df.loc['Pablo Bacho', 'Score']].count()['Score']/len(df)*100), '%')\n",
    "print('Global average:', '{0:.5f}'.format(df['Score'].mean()))"
   ]
  },
  {
   "cell_type": "code",
   "execution_count": null,
   "metadata": {},
   "outputs": [],
   "source": []
  }
 ],
 "metadata": {
  "kernelspec": {
   "display_name": "conda_python3",
   "language": "python",
   "name": "conda_python3"
  },
  "language_info": {
   "codemirror_mode": {
    "name": "ipython",
    "version": 3
   },
   "file_extension": ".py",
   "mimetype": "text/x-python",
   "name": "python",
   "nbconvert_exporter": "python",
   "pygments_lexer": "ipython3",
   "version": "3.6.5"
  }
 },
 "nbformat": 4,
 "nbformat_minor": 4
}
