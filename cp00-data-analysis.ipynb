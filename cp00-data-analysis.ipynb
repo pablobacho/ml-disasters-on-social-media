{
 "cells": [
  {
   "cell_type": "markdown",
   "metadata": {},
   "source": [
    "# Data exploration\n",
    "\n",
    "## Set up environment\n",
    "\n",
    "### Download dataset manually\n",
    "\n",
    "Let's start downloading the train dataset from Kaggle's website:\n",
    "\n",
    "https://www.kaggle.com/c/nlp-getting-started/data\n",
    "\n",
    "I downloaded the dataset manually and saved if in the 'input' folder.\n",
    "\n",
    "The dataset could be downloaded programmatically using Kaggle API, but it requires authentication and it would be unsafe on a notebook that is meant to be shared."
   ]
  },
  {
   "cell_type": "markdown",
   "metadata": {},
   "source": [
    "### Import Python packages\n",
    "\n",
    "For data exploration and processing we are using the following Python packages:\n",
    "* Numpy (linear algebra)\n",
    "* Pandas (data processing)\n",
    "* Seaborn (data visualization)\n",
    "* Matplotlib (data visualization)"
   ]
  },
  {
   "cell_type": "code",
   "execution_count": 1,
   "metadata": {},
   "outputs": [],
   "source": [
    "import numpy as np\n",
    "import pandas as pd\n",
    "\n",
    "pd.plotting.register_matplotlib_converters()\n",
    "import matplotlib.pyplot as plt\n",
    "%matplotlib inline\n",
    "import seaborn as sns"
   ]
  },
  {
   "cell_type": "markdown",
   "metadata": {},
   "source": [
    "### Read dataset from CSV\n",
    "\n",
    "Print out the first line of the file to see what fields it contains."
   ]
  },
  {
   "cell_type": "code",
   "execution_count": 2,
   "metadata": {},
   "outputs": [
    {
     "name": "stdout",
     "output_type": "stream",
     "text": [
      "id,keyword,location,text,target\n",
      "\n"
     ]
    }
   ],
   "source": [
    "with open('input/train.csv') as f:\n",
    "    print(next(f))"
   ]
  },
  {
   "cell_type": "markdown",
   "metadata": {},
   "source": [
    "Read the CSV file. Looks like 'id' is the right column to be our index."
   ]
  },
  {
   "cell_type": "code",
   "execution_count": 3,
   "metadata": {},
   "outputs": [],
   "source": [
    "# Read dataset\n",
    "df = pd.read_csv('input/train.csv', encoding = 'ISO-8859-1', index_col='id')"
   ]
  },
  {
   "cell_type": "markdown",
   "metadata": {},
   "source": [
    "## Dataset analysis\n",
    "\n",
    "### General overview\n",
    "\n",
    "Taking a look at the first rows of the dataset."
   ]
  },
  {
   "cell_type": "code",
   "execution_count": 4,
   "metadata": {},
   "outputs": [
    {
     "data": {
      "text/html": [
       "<div>\n",
       "<style scoped>\n",
       "    .dataframe tbody tr th:only-of-type {\n",
       "        vertical-align: middle;\n",
       "    }\n",
       "\n",
       "    .dataframe tbody tr th {\n",
       "        vertical-align: top;\n",
       "    }\n",
       "\n",
       "    .dataframe thead th {\n",
       "        text-align: right;\n",
       "    }\n",
       "</style>\n",
       "<table border=\"1\" class=\"dataframe\">\n",
       "  <thead>\n",
       "    <tr style=\"text-align: right;\">\n",
       "      <th></th>\n",
       "      <th>keyword</th>\n",
       "      <th>location</th>\n",
       "      <th>text</th>\n",
       "      <th>target</th>\n",
       "    </tr>\n",
       "    <tr>\n",
       "      <th>id</th>\n",
       "      <th></th>\n",
       "      <th></th>\n",
       "      <th></th>\n",
       "      <th></th>\n",
       "    </tr>\n",
       "  </thead>\n",
       "  <tbody>\n",
       "    <tr>\n",
       "      <th>3335</th>\n",
       "      <td>demolished</td>\n",
       "      <td>NaN</td>\n",
       "      <td>Take this China get demolished and sent back t...</td>\n",
       "      <td>0</td>\n",
       "    </tr>\n",
       "    <tr>\n",
       "      <th>947</th>\n",
       "      <td>blaze</td>\n",
       "      <td>ducked off . . .</td>\n",
       "      <td>niggas love hating.</td>\n",
       "      <td>0</td>\n",
       "    </tr>\n",
       "    <tr>\n",
       "      <th>9175</th>\n",
       "      <td>suicide%20bomber</td>\n",
       "      <td>africa</td>\n",
       "      <td>Suicide Bomber Kills More Than a Dozen in Saud...</td>\n",
       "      <td>1</td>\n",
       "    </tr>\n",
       "    <tr>\n",
       "      <th>3989</th>\n",
       "      <td>devastation</td>\n",
       "      <td>Washington DC</td>\n",
       "      <td>Fascinating pics from inside North Korea. Not ...</td>\n",
       "      <td>0</td>\n",
       "    </tr>\n",
       "    <tr>\n",
       "      <th>9883</th>\n",
       "      <td>traumatised</td>\n",
       "      <td>NaN</td>\n",
       "      <td>@disneyIrh so traumatised im ???? http://t.co/...</td>\n",
       "      <td>1</td>\n",
       "    </tr>\n",
       "    <tr>\n",
       "      <th>2440</th>\n",
       "      <td>collide</td>\n",
       "      <td>Pennsylvania, USA</td>\n",
       "      <td>Worlds Collide When an American Family Takes O...</td>\n",
       "      <td>0</td>\n",
       "    </tr>\n",
       "  </tbody>\n",
       "</table>\n",
       "</div>"
      ],
      "text/plain": [
       "               keyword           location  \\\n",
       "id                                          \n",
       "3335        demolished                NaN   \n",
       "947              blaze  ducked off . . .    \n",
       "9175  suicide%20bomber             africa   \n",
       "3989       devastation      Washington DC   \n",
       "9883       traumatised                NaN   \n",
       "2440           collide  Pennsylvania, USA   \n",
       "\n",
       "                                                   text  target  \n",
       "id                                                               \n",
       "3335  Take this China get demolished and sent back t...       0  \n",
       "947                                 niggas love hating.       0  \n",
       "9175  Suicide Bomber Kills More Than a Dozen in Saud...       1  \n",
       "3989  Fascinating pics from inside North Korea. Not ...       0  \n",
       "9883  @disneyIrh so traumatised im ???? http://t.co/...       1  \n",
       "2440  Worlds Collide When an American Family Takes O...       0  "
      ]
     },
     "execution_count": 4,
     "metadata": {},
     "output_type": "execute_result"
    }
   ],
   "source": [
    "df.sample(n=6)"
   ]
  },
  {
   "cell_type": "markdown",
   "metadata": {},
   "source": [
    "The four columns are:\n",
    "\n",
    "* keyword: A keyword from that tweet (it might be blank)\n",
    "* location: The location the tweet was sent from (it might be blank)\n",
    "* text: The text of a tweet\n",
    "* target: 1 for disaster-related, 0 otherwise"
   ]
  },
  {
   "cell_type": "markdown",
   "metadata": {},
   "source": [
    "## Number of disaster tweets"
   ]
  },
  {
   "cell_type": "code",
   "execution_count": 5,
   "metadata": {},
   "outputs": [
    {
     "data": {
      "image/png": "[encoded data removed]",
      "text/plain": [
       "<Figure size 216x216 with 1 Axes>"
      ]
     },
     "metadata": {},
     "output_type": "display_data"
    },
    {
     "name": "stdout",
     "output_type": "stream",
     "text": [
      "Total tweets: 7613\n",
      "Disaster-related tweets: 3271\n",
      "Non-disaster related tweets: 4342\n",
      "Percentage of disaster-related tweets: 43.0 %\n"
     ]
    }
   ],
   "source": [
    "[label_0, label_1] = df['target'].value_counts()\n",
    "\n",
    "plt.figure(figsize=(3,3))\n",
    "# Add title\n",
    "plt.title('Tweets by relevance')\n",
    "# Bar chart showing average arrival delay for Spirit Airlines flights by month\n",
    "sns.barplot(x=['Not Relevant', 'Relevant'], y=[label_0, label_1])\n",
    "# Add label for vertical axis\n",
    "plt.ylabel('Number of tweets')\n",
    "plt.show()\n",
    "\n",
    "print('Total tweets:', len(df))\n",
    "print('Disaster-related tweets:', label_1)\n",
    "print('Non-disaster related tweets:', label_0)\n",
    "print('Percentage of disaster-related tweets:', '{:.1f}'.format(100*label_1/(label_0 + label_1)), '%')"
   ]
  },
  {
   "cell_type": "markdown",
   "metadata": {},
   "source": [
    "## Text\n",
    "\n",
    "About disasters:"
   ]
  },
  {
   "cell_type": "code",
   "execution_count": 6,
   "metadata": {},
   "outputs": [
    {
     "data": {
      "text/plain": [
       "[\"Map: Typhoon Soudelor's predicted path as it approaches Taiwan; expected to make landfall over southern China by SÂ\\x89Ã\\x9b_ http://t.co/JDVSGVhlIs\",\n",
       " '24 killed in two simultaneous rail crash as acute floods derail the two trains #India #mumbai... http://t.co/4KBWPCmMbM',\n",
       " 'Check out my Lava lamp dude ???? http://t.co/To9ViqooFv']"
      ]
     },
     "execution_count": 6,
     "metadata": {},
     "output_type": "execute_result"
    }
   ],
   "source": [
    "df[df['target']== 1].sample(n=3)['text'].tolist()"
   ]
  },
  {
   "cell_type": "markdown",
   "metadata": {},
   "source": [
    "Not about disasters:"
   ]
  },
  {
   "cell_type": "code",
   "execution_count": 7,
   "metadata": {},
   "outputs": [
    {
     "data": {
      "text/plain": [
       "[\"Moved on to 'Bang Bang Rock and Roll' by @Art_Brut_ . It's been too long since I've played this one loud. ART BRUT TOP OF THE POPS.\",\n",
       " '@Chrisman528 fatality ...',\n",
       " '@TheNissonian @RejectdCartoons nissan are you ok do you need medical assistance i can call an ambulance if you need me to']"
      ]
     },
     "execution_count": 7,
     "metadata": {},
     "output_type": "execute_result"
    }
   ],
   "source": [
    "df[df['target']== 0].sample(n=3)['text'].tolist()"
   ]
  },
  {
   "cell_type": "markdown",
   "metadata": {},
   "source": [
    "## Keyword distribution\n",
    "\n",
    "Keywords are the search terms used to retrieve the tweets to build the dataset. This keyword is NOT part of a tweet and it will not be available when we use our model to classify new tweets. For this reason I am not going to use it to build the model.\n",
    "\n",
    "Let's take a look at it nonetheless to see what it looks like."
   ]
  },
  {
   "cell_type": "code",
   "execution_count": 8,
   "metadata": {},
   "outputs": [
    {
     "data": {
      "image/png": "[encoded data removed]",
      "text/plain": [
       "<Figure size 720x216 with 1 Axes>"
      ]
     },
     "metadata": {},
     "output_type": "display_data"
    },
    {
     "name": "stdout",
     "output_type": "stream",
     "text": [
      "Total different keywords: 221\n",
      "Average number of tweets per keyword: 34.171945701357465\n",
      "Standard deviation: 1.3833293172632466\n",
      "Number of tweets with no keyword: 61\n"
     ]
    }
   ],
   "source": [
    "keyword_count = df['keyword'].value_counts()[:25]\n",
    "plt.figure(figsize=(10,3))\n",
    "graph = sns.barplot(keyword_count.index, keyword_count.values)\n",
    "plt.title('Tweets by keyword')\n",
    "plt.ylabel('Number of tweets')\n",
    "plt.xlabel('Keyword')\n",
    "graph.set_xticklabels(graph.get_xticklabels(), rotation=90)\n",
    "plt.show()\n",
    "print('Total different keywords:', df['keyword'].nunique(dropna=True))\n",
    "print('Average number of tweets per keyword:', np.average(df['keyword'].value_counts()))\n",
    "print('Standard deviation:', np.std(keyword_count.values))\n",
    "print('Number of tweets with no keyword:', len(df) - df['keyword'].count())"
   ]
  },
  {
   "cell_type": "markdown",
   "metadata": {},
   "source": [
    "We can see that there are a total of 221 different keywords in the dataset. Each keyword has an average of 34.2 tweets and a standard deviation of 1.39, so they are pretty evenly distributed."
   ]
  },
  {
   "cell_type": "markdown",
   "metadata": {},
   "source": [
    "## Most popular locations"
   ]
  },
  {
   "cell_type": "code",
   "execution_count": 9,
   "metadata": {},
   "outputs": [
    {
     "data": {
      "image/png": "[encoded data removed]",
      "text/plain": [
       "<Figure size 618.375x288 with 1 Axes>"
      ]
     },
     "metadata": {},
     "output_type": "display_data"
    },
    {
     "name": "stdout",
     "output_type": "stream",
     "text": [
      "Total different locations: 3341\n"
     ]
    }
   ],
   "source": [
    "# Get the most popular locations by number of tweets\n",
    "location_count = df['location'].value_counts()[:25]\n",
    "\n",
    "# Count tweets from the most popular locations keeping relevant and irrelevant counts separate\n",
    "target_by_location = df.loc[df['location'].isin(location_count.index)].groupby(['location', 'target']).size().reset_index(name='count')\n",
    "\n",
    "# Order results\n",
    "sorterIndex = dict(zip(location_count.index, range(len(location_count.index))))\n",
    "target_by_location['position'] = target_by_location['location'].map(sorterIndex)\n",
    "target_by_location.sort_values(['position'], inplace = True)\n",
    "\n",
    "# Plot results\n",
    "graph = sns.factorplot(x='location', y='count', hue='target', data=target_by_location, kind='bar', aspect=2)\n",
    "plt.title('Tweets by location')\n",
    "plt.ylabel('Number of tweets')\n",
    "plt.xlabel('Location')\n",
    "graph.set_axis_labels('Location', 'Number of tweets').set_xticklabels(graph.facet_axis(0, 0).get_xticklabels(), rotation=90)\n",
    "plt.show()\n",
    "print('Total different locations:', df['location'].nunique(dropna=True))"
   ]
  },
  {
   "cell_type": "markdown",
   "metadata": {},
   "source": [
    "There are a total of 3,341 different locations for 7,613 tweets.\n",
    "\n",
    "We need to keep in mind that locations can be very inaccurate:\n",
    "*  They are user defined, and the user can write anything.\n",
    "*  They are strings with no meaning. \"USA\" and \"United States\" are different locations, \"California\" is not contained in \"USA\", neither is \"Los Angeles\", and \"Los Angeles, CA\" is a completely different location.\n",
    "\n",
    "However, looking at the graph above it looks like there is a tendency of some places to produce more or less \"disaster\" tweets than the dataset average, so it might be worth using it in our model. Having 3,341 locations for 7,613 tweets implies that most locations will be irrelevant for not having enough tweets from them to extract patterns."
   ]
  },
  {
   "cell_type": "markdown",
   "metadata": {},
   "source": [
    "## Hyperlinks\n",
    "\n",
    "Hyperlinks are unique to each tweet and do not provide any meaningful information to differenciate one tweet from another. What might be meaningful is whether a tweet contains a hyperlink or not."
   ]
  },
  {
   "cell_type": "code",
   "execution_count": 12,
   "metadata": {},
   "outputs": [
    {
     "data": {
      "image/png": "[encoded data removed]",
      "text/plain": [
       "<Figure size 416.775x288 with 1 Axes>"
      ]
     },
     "metadata": {},
     "output_type": "display_data"
    }
   ],
   "source": [
    "import re\n",
    "\n",
    "df['link'] = np.nan\n",
    "\n",
    "for index, row in df.iterrows():\n",
    "    link = re.findall(r'http\\S+', row['text'])\n",
    "    if len(link) > 0:\n",
    "        df.loc[index, 'link'] = np.int(1)\n",
    "    else:\n",
    "        df.loc[index, 'link'] = np.int(0)\n",
    "\n",
    "df = df.astype({'link': int})\n",
    "\n",
    "# Plot results\n",
    "link_count = df.groupby(['link', 'target']).size().reset_index(name='count')\n",
    "graph = sns.factorplot(x='target', y='count', hue='link', data=link_count, kind='bar', aspect=1.3)\n",
    "plt.title('Tweets with a hyperlink')\n",
    "plt.ylabel('Number of tweets')\n",
    "plt.xlabel('Relevance')\n",
    "plt.show()"
   ]
  }
 ],
 "metadata": {
  "kernelspec": {
   "display_name": "conda_python3",
   "language": "python",
   "name": "conda_python3"
  },
  "language_info": {
   "codemirror_mode": {
    "name": "ipython",
    "version": 3
   },
   "file_extension": ".py",
   "mimetype": "text/x-python",
   "name": "python",
   "nbconvert_exporter": "python",
   "pygments_lexer": "ipython3",
   "version": "3.6.5"
  }
 },
 "nbformat": 4,
 "nbformat_minor": 4
}